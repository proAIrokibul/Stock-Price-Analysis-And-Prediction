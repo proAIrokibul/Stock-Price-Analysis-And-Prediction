{
 "cells": [
  {
   "cell_type": "code",
   "execution_count": 1,
   "metadata": {},
   "outputs": [],
   "source": [
    "import numpy as np\n",
    "import seaborn as sns\n",
    "from matplotlib import pyplot as plt\n",
    "import pandas as pd\n",
    "from sklearn.tree import DecisionTreeClassifier"
   ]
  },
  {
   "cell_type": "code",
   "execution_count": 2,
   "metadata": {},
   "outputs": [
    {
     "data": {
      "text/html": [
       "<div>\n",
       "<style scoped>\n",
       "    .dataframe tbody tr th:only-of-type {\n",
       "        vertical-align: middle;\n",
       "    }\n",
       "\n",
       "    .dataframe tbody tr th {\n",
       "        vertical-align: top;\n",
       "    }\n",
       "\n",
       "    .dataframe thead th {\n",
       "        text-align: right;\n",
       "    }\n",
       "</style>\n",
       "<table border=\"1\" class=\"dataframe\">\n",
       "  <thead>\n",
       "    <tr style=\"text-align: right;\">\n",
       "      <th></th>\n",
       "      <th>Stock ID</th>\n",
       "      <th>8:00:00</th>\n",
       "      <th>8:01:00</th>\n",
       "      <th>8:02:00</th>\n",
       "      <th>8:03:00</th>\n",
       "      <th>8:04:00</th>\n",
       "      <th>8:05:00</th>\n",
       "      <th>8:06:00</th>\n",
       "      <th>8:07:00</th>\n",
       "      <th>8:08:00</th>\n",
       "      <th>...</th>\n",
       "      <th>1M - &lt;3M Vol</th>\n",
       "      <th>3M - &lt;5M Vol</th>\n",
       "      <th>5M - &lt;10M Vol</th>\n",
       "      <th>10M - 20M Vol</th>\n",
       "      <th>&gt;20M Vol</th>\n",
       "      <th>IsTuesday</th>\n",
       "      <th>IsWednesday</th>\n",
       "      <th>IsThursday</th>\n",
       "      <th>IsFriday</th>\n",
       "      <th>ActualOutcome</th>\n",
       "    </tr>\n",
       "  </thead>\n",
       "  <tbody>\n",
       "    <tr>\n",
       "      <th>0</th>\n",
       "      <td>0</td>\n",
       "      <td>1.483636</td>\n",
       "      <td>1.501818</td>\n",
       "      <td>1.483091</td>\n",
       "      <td>1.490364</td>\n",
       "      <td>1.487273</td>\n",
       "      <td>1.505455</td>\n",
       "      <td>1.505455</td>\n",
       "      <td>1.505673</td>\n",
       "      <td>1.530909</td>\n",
       "      <td>...</td>\n",
       "      <td>1</td>\n",
       "      <td>0</td>\n",
       "      <td>0</td>\n",
       "      <td>0</td>\n",
       "      <td>0</td>\n",
       "      <td>1</td>\n",
       "      <td>0</td>\n",
       "      <td>0</td>\n",
       "      <td>0</td>\n",
       "      <td>0</td>\n",
       "    </tr>\n",
       "    <tr>\n",
       "      <th>1</th>\n",
       "      <td>1</td>\n",
       "      <td>1.300000</td>\n",
       "      <td>1.316000</td>\n",
       "      <td>1.312000</td>\n",
       "      <td>1.304000</td>\n",
       "      <td>1.296000</td>\n",
       "      <td>1.296000</td>\n",
       "      <td>1.304000</td>\n",
       "      <td>1.304000</td>\n",
       "      <td>1.304000</td>\n",
       "      <td>...</td>\n",
       "      <td>1</td>\n",
       "      <td>0</td>\n",
       "      <td>0</td>\n",
       "      <td>0</td>\n",
       "      <td>0</td>\n",
       "      <td>0</td>\n",
       "      <td>0</td>\n",
       "      <td>0</td>\n",
       "      <td>1</td>\n",
       "      <td>0</td>\n",
       "    </tr>\n",
       "    <tr>\n",
       "      <th>2</th>\n",
       "      <td>2</td>\n",
       "      <td>1.016249</td>\n",
       "      <td>1.016249</td>\n",
       "      <td>1.016249</td>\n",
       "      <td>1.016249</td>\n",
       "      <td>1.016249</td>\n",
       "      <td>1.016249</td>\n",
       "      <td>1.016249</td>\n",
       "      <td>1.016249</td>\n",
       "      <td>1.016249</td>\n",
       "      <td>...</td>\n",
       "      <td>0</td>\n",
       "      <td>0</td>\n",
       "      <td>0</td>\n",
       "      <td>0</td>\n",
       "      <td>0</td>\n",
       "      <td>0</td>\n",
       "      <td>0</td>\n",
       "      <td>0</td>\n",
       "      <td>0</td>\n",
       "      <td>1</td>\n",
       "    </tr>\n",
       "    <tr>\n",
       "      <th>3</th>\n",
       "      <td>3</td>\n",
       "      <td>1.168163</td>\n",
       "      <td>1.026939</td>\n",
       "      <td>1.144490</td>\n",
       "      <td>1.167347</td>\n",
       "      <td>1.167347</td>\n",
       "      <td>1.142857</td>\n",
       "      <td>1.167347</td>\n",
       "      <td>1.182857</td>\n",
       "      <td>1.182857</td>\n",
       "      <td>...</td>\n",
       "      <td>0</td>\n",
       "      <td>0</td>\n",
       "      <td>1</td>\n",
       "      <td>0</td>\n",
       "      <td>0</td>\n",
       "      <td>0</td>\n",
       "      <td>0</td>\n",
       "      <td>1</td>\n",
       "      <td>0</td>\n",
       "      <td>0</td>\n",
       "    </tr>\n",
       "    <tr>\n",
       "      <th>4</th>\n",
       "      <td>4</td>\n",
       "      <td>1.834043</td>\n",
       "      <td>1.825532</td>\n",
       "      <td>1.814894</td>\n",
       "      <td>1.812766</td>\n",
       "      <td>1.808511</td>\n",
       "      <td>1.810638</td>\n",
       "      <td>1.840426</td>\n",
       "      <td>1.834043</td>\n",
       "      <td>1.793617</td>\n",
       "      <td>...</td>\n",
       "      <td>0</td>\n",
       "      <td>0</td>\n",
       "      <td>1</td>\n",
       "      <td>0</td>\n",
       "      <td>0</td>\n",
       "      <td>0</td>\n",
       "      <td>1</td>\n",
       "      <td>0</td>\n",
       "      <td>0</td>\n",
       "      <td>0</td>\n",
       "    </tr>\n",
       "    <tr>\n",
       "      <th>...</th>\n",
       "      <td>...</td>\n",
       "      <td>...</td>\n",
       "      <td>...</td>\n",
       "      <td>...</td>\n",
       "      <td>...</td>\n",
       "      <td>...</td>\n",
       "      <td>...</td>\n",
       "      <td>...</td>\n",
       "      <td>...</td>\n",
       "      <td>...</td>\n",
       "      <td>...</td>\n",
       "      <td>...</td>\n",
       "      <td>...</td>\n",
       "      <td>...</td>\n",
       "      <td>...</td>\n",
       "      <td>...</td>\n",
       "      <td>...</td>\n",
       "      <td>...</td>\n",
       "      <td>...</td>\n",
       "      <td>...</td>\n",
       "      <td>...</td>\n",
       "    </tr>\n",
       "    <tr>\n",
       "      <th>2543</th>\n",
       "      <td>2543</td>\n",
       "      <td>1.102724</td>\n",
       "      <td>1.101946</td>\n",
       "      <td>1.050584</td>\n",
       "      <td>1.102724</td>\n",
       "      <td>1.070039</td>\n",
       "      <td>1.105058</td>\n",
       "      <td>1.104280</td>\n",
       "      <td>1.105058</td>\n",
       "      <td>1.128405</td>\n",
       "      <td>...</td>\n",
       "      <td>0</td>\n",
       "      <td>0</td>\n",
       "      <td>1</td>\n",
       "      <td>0</td>\n",
       "      <td>0</td>\n",
       "      <td>0</td>\n",
       "      <td>1</td>\n",
       "      <td>0</td>\n",
       "      <td>0</td>\n",
       "      <td>1</td>\n",
       "    </tr>\n",
       "    <tr>\n",
       "      <th>2544</th>\n",
       "      <td>2544</td>\n",
       "      <td>1.036496</td>\n",
       "      <td>1.080292</td>\n",
       "      <td>1.026764</td>\n",
       "      <td>1.026764</td>\n",
       "      <td>1.026764</td>\n",
       "      <td>1.000000</td>\n",
       "      <td>1.000000</td>\n",
       "      <td>1.216545</td>\n",
       "      <td>1.618005</td>\n",
       "      <td>...</td>\n",
       "      <td>0</td>\n",
       "      <td>0</td>\n",
       "      <td>0</td>\n",
       "      <td>1</td>\n",
       "      <td>0</td>\n",
       "      <td>0</td>\n",
       "      <td>1</td>\n",
       "      <td>0</td>\n",
       "      <td>0</td>\n",
       "      <td>0</td>\n",
       "    </tr>\n",
       "    <tr>\n",
       "      <th>2545</th>\n",
       "      <td>2545</td>\n",
       "      <td>1.228387</td>\n",
       "      <td>1.224516</td>\n",
       "      <td>1.227097</td>\n",
       "      <td>1.201290</td>\n",
       "      <td>1.200000</td>\n",
       "      <td>1.223226</td>\n",
       "      <td>1.219355</td>\n",
       "      <td>1.183226</td>\n",
       "      <td>1.190968</td>\n",
       "      <td>...</td>\n",
       "      <td>0</td>\n",
       "      <td>1</td>\n",
       "      <td>0</td>\n",
       "      <td>0</td>\n",
       "      <td>0</td>\n",
       "      <td>0</td>\n",
       "      <td>0</td>\n",
       "      <td>1</td>\n",
       "      <td>0</td>\n",
       "      <td>0</td>\n",
       "    </tr>\n",
       "    <tr>\n",
       "      <th>2546</th>\n",
       "      <td>2546</td>\n",
       "      <td>1.312217</td>\n",
       "      <td>1.312217</td>\n",
       "      <td>1.248869</td>\n",
       "      <td>1.226244</td>\n",
       "      <td>1.206637</td>\n",
       "      <td>1.220211</td>\n",
       "      <td>1.259427</td>\n",
       "      <td>1.279035</td>\n",
       "      <td>1.306184</td>\n",
       "      <td>...</td>\n",
       "      <td>0</td>\n",
       "      <td>0</td>\n",
       "      <td>0</td>\n",
       "      <td>0</td>\n",
       "      <td>1</td>\n",
       "      <td>0</td>\n",
       "      <td>0</td>\n",
       "      <td>0</td>\n",
       "      <td>0</td>\n",
       "      <td>0</td>\n",
       "    </tr>\n",
       "    <tr>\n",
       "      <th>2547</th>\n",
       "      <td>2547</td>\n",
       "      <td>3.981711</td>\n",
       "      <td>3.628319</td>\n",
       "      <td>3.746313</td>\n",
       "      <td>4.041298</td>\n",
       "      <td>4.070796</td>\n",
       "      <td>4.719764</td>\n",
       "      <td>4.483776</td>\n",
       "      <td>4.159292</td>\n",
       "      <td>4.277286</td>\n",
       "      <td>...</td>\n",
       "      <td>0</td>\n",
       "      <td>0</td>\n",
       "      <td>1</td>\n",
       "      <td>0</td>\n",
       "      <td>0</td>\n",
       "      <td>0</td>\n",
       "      <td>0</td>\n",
       "      <td>0</td>\n",
       "      <td>0</td>\n",
       "      <td>1</td>\n",
       "    </tr>\n",
       "  </tbody>\n",
       "</table>\n",
       "<p>2548 rows × 115 columns</p>\n",
       "</div>"
      ],
      "text/plain": [
       "      Stock ID   8:00:00   8:01:00   8:02:00   8:03:00   8:04:00   8:05:00  \\\n",
       "0            0  1.483636  1.501818  1.483091  1.490364  1.487273  1.505455   \n",
       "1            1  1.300000  1.316000  1.312000  1.304000  1.296000  1.296000   \n",
       "2            2  1.016249  1.016249  1.016249  1.016249  1.016249  1.016249   \n",
       "3            3  1.168163  1.026939  1.144490  1.167347  1.167347  1.142857   \n",
       "4            4  1.834043  1.825532  1.814894  1.812766  1.808511  1.810638   \n",
       "...        ...       ...       ...       ...       ...       ...       ...   \n",
       "2543      2543  1.102724  1.101946  1.050584  1.102724  1.070039  1.105058   \n",
       "2544      2544  1.036496  1.080292  1.026764  1.026764  1.026764  1.000000   \n",
       "2545      2545  1.228387  1.224516  1.227097  1.201290  1.200000  1.223226   \n",
       "2546      2546  1.312217  1.312217  1.248869  1.226244  1.206637  1.220211   \n",
       "2547      2547  3.981711  3.628319  3.746313  4.041298  4.070796  4.719764   \n",
       "\n",
       "       8:06:00   8:07:00   8:08:00  ...  1M - <3M Vol  3M - <5M Vol  \\\n",
       "0     1.505455  1.505673  1.530909  ...             1             0   \n",
       "1     1.304000  1.304000  1.304000  ...             1             0   \n",
       "2     1.016249  1.016249  1.016249  ...             0             0   \n",
       "3     1.167347  1.182857  1.182857  ...             0             0   \n",
       "4     1.840426  1.834043  1.793617  ...             0             0   \n",
       "...        ...       ...       ...  ...           ...           ...   \n",
       "2543  1.104280  1.105058  1.128405  ...             0             0   \n",
       "2544  1.000000  1.216545  1.618005  ...             0             0   \n",
       "2545  1.219355  1.183226  1.190968  ...             0             1   \n",
       "2546  1.259427  1.279035  1.306184  ...             0             0   \n",
       "2547  4.483776  4.159292  4.277286  ...             0             0   \n",
       "\n",
       "      5M - <10M Vol  10M - 20M Vol  >20M Vol  IsTuesday  IsWednesday  \\\n",
       "0                 0              0         0          1            0   \n",
       "1                 0              0         0          0            0   \n",
       "2                 0              0         0          0            0   \n",
       "3                 1              0         0          0            0   \n",
       "4                 1              0         0          0            1   \n",
       "...             ...            ...       ...        ...          ...   \n",
       "2543              1              0         0          0            1   \n",
       "2544              0              1         0          0            1   \n",
       "2545              0              0         0          0            0   \n",
       "2546              0              0         1          0            0   \n",
       "2547              1              0         0          0            0   \n",
       "\n",
       "      IsThursday  IsFriday  ActualOutcome  \n",
       "0              0         0              0  \n",
       "1              0         1              0  \n",
       "2              0         0              1  \n",
       "3              1         0              0  \n",
       "4              0         0              0  \n",
       "...          ...       ...            ...  \n",
       "2543           0         0              1  \n",
       "2544           0         0              0  \n",
       "2545           1         0              0  \n",
       "2546           0         0              0  \n",
       "2547           0         0              1  \n",
       "\n",
       "[2548 rows x 115 columns]"
      ]
     },
     "execution_count": 2,
     "metadata": {},
     "output_type": "execute_result"
    }
   ],
   "source": [
    "df = pd.read_csv('FinancialDataCSV - FinancialData (2).csv')\n",
    "df"
   ]
  },
  {
   "cell_type": "code",
   "execution_count": 3,
   "metadata": {},
   "outputs": [
    {
     "name": "stdout",
     "output_type": "stream",
     "text": [
      "<class 'pandas.core.frame.DataFrame'>\n",
      "RangeIndex: 2548 entries, 0 to 2547\n",
      "Columns: 115 entries, Stock ID to ActualOutcome\n",
      "dtypes: float64(90), int64(25)\n",
      "memory usage: 2.2 MB\n",
      "None\n"
     ]
    }
   ],
   "source": [
    "print(df.info())"
   ]
  },
  {
   "cell_type": "code",
   "execution_count": 4,
   "metadata": {},
   "outputs": [
    {
     "name": "stdout",
     "output_type": "stream",
     "text": [
      "Outliers exist in the dataset.\n"
     ]
    }
   ],
   "source": [
    "from scipy import stats\n",
    "\n",
    "# Identify numerical columns\n",
    "numerical_cols = df.select_dtypes(include=['int', 'float']).columns\n",
    "\n",
    "# Calculate Z-scores for each data point in the numerical columns\n",
    "z_scores = stats.zscore(df[numerical_cols])\n",
    "\n",
    "# Define a threshold for outlier detection (e.g., 3 standard deviations)\n",
    "threshold = 3\n",
    "\n",
    "# Check if any Z-score exceeds the threshold in any numerical column\n",
    "outliers_exist = (z_scores > threshold).any().any()\n",
    "\n",
    "if outliers_exist:\n",
    "    print(\"Outliers exist in the dataset.\")\n",
    "else:\n",
    "    print(\"No outliers found in the dataset.\")"
   ]
  },
  {
   "cell_type": "code",
   "execution_count": 5,
   "metadata": {},
   "outputs": [
    {
     "name": "stdout",
     "output_type": "stream",
     "text": [
      "      Stock ID   8:00:00   8:01:00   8:02:00   8:03:00   8:04:00   8:05:00  \\\n",
      "1            1  1.300000  1.316000  1.312000  1.304000  1.296000  1.296000   \n",
      "3            3  1.168163  1.026939  1.144490  1.167347  1.167347  1.142857   \n",
      "7            7  1.112903  1.112903  1.112903  1.112903  1.112903  1.112903   \n",
      "10          10  1.101562  1.109375  1.109375  1.234375  1.210938  1.273438   \n",
      "11          11  1.000000  0.976331  0.976331  0.977988  1.005917  1.017751   \n",
      "...        ...       ...       ...       ...       ...       ...       ...   \n",
      "2541      2541  1.548333  1.466667  1.479583  1.444583  1.444583  1.368333   \n",
      "2542      2542  1.436127  1.436127  1.522376  1.501221  1.505289  1.505289   \n",
      "2543      2543  1.102724  1.101946  1.050584  1.102724  1.070039  1.105058   \n",
      "2544      2544  1.036496  1.080292  1.026764  1.026764  1.026764  1.000000   \n",
      "2547      2547  3.981711  3.628319  3.746313  4.041298  4.070796  4.719764   \n",
      "\n",
      "       8:06:00   8:07:00   8:08:00  ...  1M - <3M Vol  3M - <5M Vol  \\\n",
      "1     1.304000  1.304000  1.304000  ...             1             0   \n",
      "3     1.167347  1.182857  1.182857  ...             0             0   \n",
      "7     1.112903  1.112903  1.112903  ...             0             0   \n",
      "10    1.250000  1.226562  1.289062  ...             0             0   \n",
      "11    1.017751  1.017751  1.017751  ...             1             0   \n",
      "...        ...       ...       ...  ...           ...           ...   \n",
      "2541  1.397500  1.391250  1.425000  ...             0             0   \n",
      "2542  1.489015  1.472742  1.432059  ...             0             0   \n",
      "2543  1.104280  1.105058  1.128405  ...             0             0   \n",
      "2544  1.000000  1.216545  1.618005  ...             0             0   \n",
      "2547  4.483776  4.159292  4.277286  ...             0             0   \n",
      "\n",
      "      5M - <10M Vol  10M - 20M Vol  >20M Vol  IsTuesday  IsWednesday  \\\n",
      "1                 0              0         0          0            0   \n",
      "3                 1              0         0          0            0   \n",
      "7                 1              0         0          0            0   \n",
      "10                1              0         0          0            0   \n",
      "11                0              0         0          1            0   \n",
      "...             ...            ...       ...        ...          ...   \n",
      "2541              0              1         0          0            0   \n",
      "2542              0              1         0          0            0   \n",
      "2543              1              0         0          0            1   \n",
      "2544              0              1         0          0            1   \n",
      "2547              1              0         0          0            0   \n",
      "\n",
      "      IsThursday  IsFriday  ActualOutcome  \n",
      "1              0         1              0  \n",
      "3              1         0              0  \n",
      "7              1         0              1  \n",
      "10             0         1              0  \n",
      "11             0         0              1  \n",
      "...          ...       ...            ...  \n",
      "2541           0         1              0  \n",
      "2542           0         1              1  \n",
      "2543           0         0              1  \n",
      "2544           0         0              0  \n",
      "2547           0         0              1  \n",
      "\n",
      "[1474 rows x 115 columns]\n"
     ]
    }
   ],
   "source": [
    "# Identify numerical and categorical columns\n",
    "numerical_cols = df.select_dtypes(include=['int']).columns\n",
    "categorical_cols = df.select_dtypes(include=['object']).columns\n",
    "\n",
    "# Outlier detection for numerical columns using Z-score\n",
    "z_scores = stats.zscore(df[numerical_cols])\n",
    "outliers_numerical = (z_scores > 3) | (z_scores < -3)\n",
    "outliers_numerical = pd.DataFrame(outliers_numerical, columns=numerical_cols)\n",
    "\n",
    "# Outlier detection for categorical columns based on frequency\n",
    "outliers_categorical = pd.DataFrame()\n",
    "for col in categorical_cols:\n",
    "    counts = df[col].value_counts()\n",
    "    outliers_categorical[col] = df[col].isin(counts[counts < 10].index)\n",
    "\n",
    "# Combine outliers from numerical and categorical columns\n",
    "outliers_combined = pd.concat([outliers_numerical, outliers_categorical], axis=1).any(axis=1)\n",
    "\n",
    "# Remove outliers from the dataset\n",
    "df = df[~outliers_combined]\n",
    "\n",
    "# Display or save the cleaned dataset\n",
    "print(df)"
   ]
  },
  {
   "cell_type": "code",
   "execution_count": 6,
   "metadata": {},
   "outputs": [
    {
     "name": "stdout",
     "output_type": "stream",
     "text": [
      "Columns with Null Values:\n",
      "Series([], dtype: int64)\n",
      "\n",
      "Summary of Null Values:\n",
      "0\n"
     ]
    }
   ],
   "source": [
    "# Check for null values in the entire DataFrame\n",
    "null_values = df.isnull().sum()\n",
    "\n",
    "# Display columns with null values and their counts\n",
    "columns_with_null = null_values[null_values > 0]\n",
    "print(\"Columns with Null Values:\")\n",
    "print(columns_with_null)\n",
    "\n",
    "# Display a summary of null values\n",
    "print(\"\\nSummary of Null Values:\")\n",
    "print(df.isnull().sum().sum())"
   ]
  },
  {
   "cell_type": "code",
   "execution_count": 7,
   "metadata": {},
   "outputs": [
    {
     "data": {
      "image/png": "[encoded data removed]",
      "text/plain": [
       "<Figure size 800x500 with 1 Axes>"
      ]
     },
     "metadata": {},
     "output_type": "display_data"
    }
   ],
   "source": [
    "# Visualize the distribution of the target variable\n",
    "plt.figure(figsize=(8, 5))\n",
    "sns.countplot(x='ActualOutcome', data=df)\n",
    "plt.title('Distribution of Actual Outcome')\n",
    "plt.show()"
   ]
  },
  {
   "cell_type": "code",
   "execution_count": 9,
   "metadata": {},
   "outputs": [
    {
     "data": {
      "image/png": "[encoded data removed]",
      "text/plain": [
       "<Figure size 800x500 with 1 Axes>"
      ]
     },
     "metadata": {},
     "output_type": "display_data"
    }
   ],
   "source": [
    "# Visualize the distribution of a specific feature\n",
    "plt.figure(figsize=(8, 5))\n",
    "sns.histplot(df['8:01:00'], bins=30, kde=True)\n",
    "plt.title('Distribution of Price Ratio at 8:00')\n",
    "plt.xlabel('Price Ratio')\n",
    "plt.show()"
   ]
  },
  {
   "cell_type": "code",
   "execution_count": 10,
   "metadata": {},
   "outputs": [
    {
     "data": {
      "image/png": "[encoded data removed]",
      "text/plain": [
       "<Figure size 800x500 with 1 Axes>"
      ]
     },
     "metadata": {},
     "output_type": "display_data"
    }
   ],
   "source": [
    "# Visualize the distribution of a specific feature\n",
    "plt.figure(figsize=(8, 5))\n",
    "sns.histplot(df['9:29:00'], bins=30, kde=True)\n",
    "plt.title('Distribution of Price Ratio at 9:29:00')\n",
    "plt.xlabel('Price Ratio')\n",
    "plt.show()"
   ]
  },
  {
   "cell_type": "code",
   "execution_count": 11,
   "metadata": {},
   "outputs": [],
   "source": [
    "# Assuming 'outcome' is your target variable\n",
    "X = df.drop('ActualOutcome', axis=1)\n",
    "y = df['ActualOutcome']"
   ]
  },
  {
   "cell_type": "code",
   "execution_count": 12,
   "metadata": {},
   "outputs": [],
   "source": [
    "from sklearn.model_selection import train_test_split\n",
    "\n",
    "# Split the dataset into training and testing sets\n",
    "X_train, X_test, y_train, y_test = train_test_split(X, y, test_size=0.2, random_state=42)"
   ]
  },
  {
   "cell_type": "code",
   "execution_count": 13,
   "metadata": {},
   "outputs": [],
   "source": [
    "from sklearn.preprocessing import StandardScaler\n",
    "\n",
    "# Standardize the features\n",
    "scaler = StandardScaler()\n",
    "X_train_scaled = scaler.fit_transform(X_train)\n",
    "X_test_scaled = scaler.transform(X_test)"
   ]
  },
  {
   "cell_type": "code",
   "execution_count": 16,
   "metadata": {},
   "outputs": [
    {
     "data": {
      "text/html": [
       "<style>#sk-container-id-1 {color: black;}#sk-container-id-1 pre{padding: 0;}#sk-container-id-1 div.sk-toggleable {background-color: white;}#sk-container-id-1 label.sk-toggleable__label {cursor: pointer;display: block;width: 100%;margin-bottom: 0;padding: 0.3em;box-sizing: border-box;text-align: center;}#sk-container-id-1 label.sk-toggleable__label-arrow:before {content: \"▸\";float: left;margin-right: 0.25em;color: #696969;}#sk-container-id-1 label.sk-toggleable__label-arrow:hover:before {color: black;}#sk-container-id-1 div.sk-estimator:hover label.sk-toggleable__label-arrow:before {color: black;}#sk-container-id-1 div.sk-toggleable__content {max-height: 0;max-width: 0;overflow: hidden;text-align: left;background-color: #f0f8ff;}#sk-container-id-1 div.sk-toggleable__content pre {margin: 0.2em;color: black;border-radius: 0.25em;background-color: #f0f8ff;}#sk-container-id-1 input.sk-toggleable__control:checked~div.sk-toggleable__content {max-height: 200px;max-width: 100%;overflow: auto;}#sk-container-id-1 input.sk-toggleable__control:checked~label.sk-toggleable__label-arrow:before {content: \"▾\";}#sk-container-id-1 div.sk-estimator input.sk-toggleable__control:checked~label.sk-toggleable__label {background-color: #d4ebff;}#sk-container-id-1 div.sk-label input.sk-toggleable__control:checked~label.sk-toggleable__label {background-color: #d4ebff;}#sk-container-id-1 input.sk-hidden--visually {border: 0;clip: rect(1px 1px 1px 1px);clip: rect(1px, 1px, 1px, 1px);height: 1px;margin: -1px;overflow: hidden;padding: 0;position: absolute;width: 1px;}#sk-container-id-1 div.sk-estimator {font-family: monospace;background-color: #f0f8ff;border: 1px dotted black;border-radius: 0.25em;box-sizing: border-box;margin-bottom: 0.5em;}#sk-container-id-1 div.sk-estimator:hover {background-color: #d4ebff;}#sk-container-id-1 div.sk-parallel-item::after {content: \"\";width: 100%;border-bottom: 1px solid gray;flex-grow: 1;}#sk-container-id-1 div.sk-label:hover label.sk-toggleable__label {background-color: #d4ebff;}#sk-container-id-1 div.sk-serial::before {content: \"\";position: absolute;border-left: 1px solid gray;box-sizing: border-box;top: 0;bottom: 0;left: 50%;z-index: 0;}#sk-container-id-1 div.sk-serial {display: flex;flex-direction: column;align-items: center;background-color: white;padding-right: 0.2em;padding-left: 0.2em;position: relative;}#sk-container-id-1 div.sk-item {position: relative;z-index: 1;}#sk-container-id-1 div.sk-parallel {display: flex;align-items: stretch;justify-content: center;background-color: white;position: relative;}#sk-container-id-1 div.sk-item::before, #sk-container-id-1 div.sk-parallel-item::before {content: \"\";position: absolute;border-left: 1px solid gray;box-sizing: border-box;top: 0;bottom: 0;left: 50%;z-index: -1;}#sk-container-id-1 div.sk-parallel-item {display: flex;flex-direction: column;z-index: 1;position: relative;background-color: white;}#sk-container-id-1 div.sk-parallel-item:first-child::after {align-self: flex-end;width: 50%;}#sk-container-id-1 div.sk-parallel-item:last-child::after {align-self: flex-start;width: 50%;}#sk-container-id-1 div.sk-parallel-item:only-child::after {width: 0;}#sk-container-id-1 div.sk-dashed-wrapped {border: 1px dashed gray;margin: 0 0.4em 0.5em 0.4em;box-sizing: border-box;padding-bottom: 0.4em;background-color: white;}#sk-container-id-1 div.sk-label label {font-family: monospace;font-weight: bold;display: inline-block;line-height: 1.2em;}#sk-container-id-1 div.sk-label-container {text-align: center;}#sk-container-id-1 div.sk-container {/* jupyter's `normalize.less` sets `[hidden] { display: none; }` but bootstrap.min.css set `[hidden] { display: none !important; }` so we also need the `!important` here to be able to override the default hidden behavior on the sphinx rendered scikit-learn.org. See: https://github.com/scikit-learn/scikit-learn/issues/21755 */display: inline-block !important;position: relative;}#sk-container-id-1 div.sk-text-repr-fallback {display: none;}</style><div id=\"sk-container-id-1\" class=\"sk-top-container\"><div class=\"sk-text-repr-fallback\"><pre>XGBClassifier(base_score=None, booster=None, callbacks=None,\n",
       "              colsample_bylevel=None, colsample_bynode=None,\n",
       "              colsample_bytree=None, device=None, early_stopping_rounds=None,\n",
       "              enable_categorical=False, eval_metric=None, feature_types=None,\n",
       "              gamma=None, grow_policy=None, importance_type=None,\n",
       "              interaction_constraints=None, learning_rate=None, max_bin=None,\n",
       "              max_cat_threshold=None, max_cat_to_onehot=None,\n",
       "              max_delta_step=None, max_depth=None, max_leaves=None,\n",
       "              min_child_weight=None, missing=nan, monotone_constraints=None,\n",
       "              multi_strategy=None, n_estimators=None, n_jobs=None,\n",
       "              num_parallel_tree=None, random_state=None, ...)</pre><b>In a Jupyter environment, please rerun this cell to show the HTML representation or trust the notebook. <br />On GitHub, the HTML representation is unable to render, please try loading this page with nbviewer.org.</b></div><div class=\"sk-container\" hidden><div class=\"sk-item\"><div class=\"sk-estimator sk-toggleable\"><input class=\"sk-toggleable__control sk-hidden--visually\" id=\"sk-estimator-id-1\" type=\"checkbox\" checked><label for=\"sk-estimator-id-1\" class=\"sk-toggleable__label sk-toggleable__label-arrow\">XGBClassifier</label><div class=\"sk-toggleable__content\"><pre>XGBClassifier(base_score=None, booster=None, callbacks=None,\n",
       "              colsample_bylevel=None, colsample_bynode=None,\n",
       "              colsample_bytree=None, device=None, early_stopping_rounds=None,\n",
       "              enable_categorical=False, eval_metric=None, feature_types=None,\n",
       "              gamma=None, grow_policy=None, importance_type=None,\n",
       "              interaction_constraints=None, learning_rate=None, max_bin=None,\n",
       "              max_cat_threshold=None, max_cat_to_onehot=None,\n",
       "              max_delta_step=None, max_depth=None, max_leaves=None,\n",
       "              min_child_weight=None, missing=nan, monotone_constraints=None,\n",
       "              multi_strategy=None, n_estimators=None, n_jobs=None,\n",
       "              num_parallel_tree=None, random_state=None, ...)</pre></div></div></div></div></div>"
      ],
      "text/plain": [
       "XGBClassifier(base_score=None, booster=None, callbacks=None,\n",
       "              colsample_bylevel=None, colsample_bynode=None,\n",
       "              colsample_bytree=None, device=None, early_stopping_rounds=None,\n",
       "              enable_categorical=False, eval_metric=None, feature_types=None,\n",
       "              gamma=None, grow_policy=None, importance_type=None,\n",
       "              interaction_constraints=None, learning_rate=None, max_bin=None,\n",
       "              max_cat_threshold=None, max_cat_to_onehot=None,\n",
       "              max_delta_step=None, max_depth=None, max_leaves=None,\n",
       "              min_child_weight=None, missing=nan, monotone_constraints=None,\n",
       "              multi_strategy=None, n_estimators=None, n_jobs=None,\n",
       "              num_parallel_tree=None, random_state=None, ...)"
      ]
     },
     "execution_count": 16,
     "metadata": {},
     "output_type": "execute_result"
    }
   ],
   "source": [
    "from xgboost import XGBClassifier\n",
    "\n",
    "# Model training\n",
    "model = XGBClassifier()\n",
    "model.fit(X_train_scaled, y_train)"
   ]
  },
  {
   "cell_type": "code",
   "execution_count": 17,
   "metadata": {},
   "outputs": [
    {
     "data": {
      "text/plain": [
       "1.0"
      ]
     },
     "execution_count": 17,
     "metadata": {},
     "output_type": "execute_result"
    }
   ],
   "source": [
    "model.score(X_train_scaled, y_train)"
   ]
  },
  {
   "cell_type": "code",
   "execution_count": 18,
   "metadata": {},
   "outputs": [
    {
     "data": {
      "text/plain": [
       "array([0, 0, 0, 1, 1, 0, 1, 0, 0, 0, 0, 0, 0, 0, 0, 0, 0, 1, 0, 0, 0, 0,\n",
       "       1, 1, 1, 1, 0, 1, 1, 0, 1, 1, 0, 1, 0, 1, 0, 0, 1, 0, 0, 1, 0, 1,\n",
       "       0, 0, 1, 0, 0, 0, 0, 0, 1, 0, 0, 1, 0, 0, 0, 0, 0, 0, 1, 0, 1, 0,\n",
       "       0, 1, 0, 0, 1, 1, 1, 0, 0, 1, 1, 0, 0, 0, 0, 1, 0, 0, 1, 1, 1, 1,\n",
       "       0, 1, 1, 1, 0, 0, 0, 0, 0, 0, 0, 1, 0, 1, 0, 0, 0, 1, 0, 1, 0, 0,\n",
       "       0, 1, 0, 0, 0, 0, 0, 0, 1, 0, 0, 0, 0, 1, 0, 0, 0, 0, 0, 0, 1, 0,\n",
       "       1, 0, 0, 0, 0, 1, 0, 0, 1, 0, 1, 0, 1, 0, 0, 0, 0, 0, 1, 0, 1, 0,\n",
       "       0, 1, 1, 0, 0, 0, 0, 0, 0, 1, 0, 0, 0, 0, 0, 0, 0, 1, 0, 0, 0, 0,\n",
       "       0, 0, 1, 1, 0, 0, 0, 0, 0, 0, 0, 0, 1, 0, 0, 1, 1, 0, 1, 1, 0, 0,\n",
       "       1, 0, 0, 1, 0, 1, 0, 0, 0, 1, 0, 1, 0, 0, 1, 1, 1, 0, 0, 0, 0, 0,\n",
       "       0, 0, 0, 0, 1, 0, 0, 0, 0, 0, 1, 0, 0, 0, 0, 0, 1, 1, 0, 0, 0, 0,\n",
       "       0, 0, 0, 1, 0, 1, 0, 1, 1, 0, 0, 0, 0, 1, 0, 0, 0, 1, 0, 0, 1, 1,\n",
       "       0, 1, 0, 0, 1, 0, 0, 1, 1, 0, 1, 0, 1, 1, 0, 1, 0, 0, 0, 1, 1, 0,\n",
       "       0, 0, 0, 0, 1, 0, 1, 0, 1])"
      ]
     },
     "execution_count": 18,
     "metadata": {},
     "output_type": "execute_result"
    }
   ],
   "source": [
    "# Model evaluation\n",
    "y_pred = model.predict(X_test_scaled)\n",
    "y_pred"
   ]
  },
  {
   "cell_type": "code",
   "execution_count": 19,
   "metadata": {},
   "outputs": [
    {
     "name": "stdout",
     "output_type": "stream",
     "text": [
      "Accuracy: 0.559322033898305\n",
      "Confusion Matrix:\n",
      "[[122  52]\n",
      " [ 78  43]]\n",
      "Classification Report:\n",
      "              precision    recall  f1-score   support\n",
      "\n",
      "           0       0.61      0.70      0.65       174\n",
      "           1       0.45      0.36      0.40       121\n",
      "\n",
      "    accuracy                           0.56       295\n",
      "   macro avg       0.53      0.53      0.53       295\n",
      "weighted avg       0.55      0.56      0.55       295\n",
      "\n"
     ]
    }
   ],
   "source": [
    "from sklearn.metrics import accuracy_score, classification_report, confusion_matrix\n",
    "\n",
    "accuracy = accuracy_score(y_test, y_pred)\n",
    "conf_matrix = confusion_matrix(y_test, y_pred)\n",
    "classification_rep = classification_report(y_test, y_pred)\n",
    "\n",
    "print(f\"Accuracy: {accuracy}\")\n",
    "print(f\"Confusion Matrix:\\n{conf_matrix}\")\n",
    "print(f\"Classification Report:\\n{classification_rep}\")"
   ]
  },
  {
   "cell_type": "code",
   "execution_count": 20,
   "metadata": {},
   "outputs": [
    {
     "data": {
      "text/html": [
       "<style>#sk-container-id-2 {color: black;}#sk-container-id-2 pre{padding: 0;}#sk-container-id-2 div.sk-toggleable {background-color: white;}#sk-container-id-2 label.sk-toggleable__label {cursor: pointer;display: block;width: 100%;margin-bottom: 0;padding: 0.3em;box-sizing: border-box;text-align: center;}#sk-container-id-2 label.sk-toggleable__label-arrow:before {content: \"▸\";float: left;margin-right: 0.25em;color: #696969;}#sk-container-id-2 label.sk-toggleable__label-arrow:hover:before {color: black;}#sk-container-id-2 div.sk-estimator:hover label.sk-toggleable__label-arrow:before {color: black;}#sk-container-id-2 div.sk-toggleable__content {max-height: 0;max-width: 0;overflow: hidden;text-align: left;background-color: #f0f8ff;}#sk-container-id-2 div.sk-toggleable__content pre {margin: 0.2em;color: black;border-radius: 0.25em;background-color: #f0f8ff;}#sk-container-id-2 input.sk-toggleable__control:checked~div.sk-toggleable__content {max-height: 200px;max-width: 100%;overflow: auto;}#sk-container-id-2 input.sk-toggleable__control:checked~label.sk-toggleable__label-arrow:before {content: \"▾\";}#sk-container-id-2 div.sk-estimator input.sk-toggleable__control:checked~label.sk-toggleable__label {background-color: #d4ebff;}#sk-container-id-2 div.sk-label input.sk-toggleable__control:checked~label.sk-toggleable__label {background-color: #d4ebff;}#sk-container-id-2 input.sk-hidden--visually {border: 0;clip: rect(1px 1px 1px 1px);clip: rect(1px, 1px, 1px, 1px);height: 1px;margin: -1px;overflow: hidden;padding: 0;position: absolute;width: 1px;}#sk-container-id-2 div.sk-estimator {font-family: monospace;background-color: #f0f8ff;border: 1px dotted black;border-radius: 0.25em;box-sizing: border-box;margin-bottom: 0.5em;}#sk-container-id-2 div.sk-estimator:hover {background-color: #d4ebff;}#sk-container-id-2 div.sk-parallel-item::after {content: \"\";width: 100%;border-bottom: 1px solid gray;flex-grow: 1;}#sk-container-id-2 div.sk-label:hover label.sk-toggleable__label {background-color: #d4ebff;}#sk-container-id-2 div.sk-serial::before {content: \"\";position: absolute;border-left: 1px solid gray;box-sizing: border-box;top: 0;bottom: 0;left: 50%;z-index: 0;}#sk-container-id-2 div.sk-serial {display: flex;flex-direction: column;align-items: center;background-color: white;padding-right: 0.2em;padding-left: 0.2em;position: relative;}#sk-container-id-2 div.sk-item {position: relative;z-index: 1;}#sk-container-id-2 div.sk-parallel {display: flex;align-items: stretch;justify-content: center;background-color: white;position: relative;}#sk-container-id-2 div.sk-item::before, #sk-container-id-2 div.sk-parallel-item::before {content: \"\";position: absolute;border-left: 1px solid gray;box-sizing: border-box;top: 0;bottom: 0;left: 50%;z-index: -1;}#sk-container-id-2 div.sk-parallel-item {display: flex;flex-direction: column;z-index: 1;position: relative;background-color: white;}#sk-container-id-2 div.sk-parallel-item:first-child::after {align-self: flex-end;width: 50%;}#sk-container-id-2 div.sk-parallel-item:last-child::after {align-self: flex-start;width: 50%;}#sk-container-id-2 div.sk-parallel-item:only-child::after {width: 0;}#sk-container-id-2 div.sk-dashed-wrapped {border: 1px dashed gray;margin: 0 0.4em 0.5em 0.4em;box-sizing: border-box;padding-bottom: 0.4em;background-color: white;}#sk-container-id-2 div.sk-label label {font-family: monospace;font-weight: bold;display: inline-block;line-height: 1.2em;}#sk-container-id-2 div.sk-label-container {text-align: center;}#sk-container-id-2 div.sk-container {/* jupyter's `normalize.less` sets `[hidden] { display: none; }` but bootstrap.min.css set `[hidden] { display: none !important; }` so we also need the `!important` here to be able to override the default hidden behavior on the sphinx rendered scikit-learn.org. See: https://github.com/scikit-learn/scikit-learn/issues/21755 */display: inline-block !important;position: relative;}#sk-container-id-2 div.sk-text-repr-fallback {display: none;}</style><div id=\"sk-container-id-2\" class=\"sk-top-container\"><div class=\"sk-text-repr-fallback\"><pre>DecisionTreeClassifier()</pre><b>In a Jupyter environment, please rerun this cell to show the HTML representation or trust the notebook. <br />On GitHub, the HTML representation is unable to render, please try loading this page with nbviewer.org.</b></div><div class=\"sk-container\" hidden><div class=\"sk-item\"><div class=\"sk-estimator sk-toggleable\"><input class=\"sk-toggleable__control sk-hidden--visually\" id=\"sk-estimator-id-2\" type=\"checkbox\" checked><label for=\"sk-estimator-id-2\" class=\"sk-toggleable__label sk-toggleable__label-arrow\">DecisionTreeClassifier</label><div class=\"sk-toggleable__content\"><pre>DecisionTreeClassifier()</pre></div></div></div></div></div>"
      ],
      "text/plain": [
       "DecisionTreeClassifier()"
      ]
     },
     "execution_count": 20,
     "metadata": {},
     "output_type": "execute_result"
    }
   ],
   "source": [
    "model0 = DecisionTreeClassifier()\n",
    "model0.fit(X_train_scaled, y_train)"
   ]
  },
  {
   "cell_type": "code",
   "execution_count": 21,
   "metadata": {},
   "outputs": [
    {
     "data": {
      "text/plain": [
       "1.0"
      ]
     },
     "execution_count": 21,
     "metadata": {},
     "output_type": "execute_result"
    }
   ],
   "source": [
    "model0.score(X_train_scaled, y_train)"
   ]
  },
  {
   "cell_type": "code",
   "execution_count": 22,
   "metadata": {},
   "outputs": [
    {
     "data": {
      "text/plain": [
       "array([0, 0, 0, 0, 1, 1, 1, 0, 0, 0, 0, 1, 0, 1, 1, 1, 0, 0, 0, 1, 0, 0,\n",
       "       0, 1, 1, 1, 1, 1, 1, 0, 1, 1, 0, 1, 1, 1, 1, 1, 1, 0, 0, 0, 0, 1,\n",
       "       0, 1, 0, 0, 0, 0, 1, 0, 1, 0, 1, 0, 0, 0, 0, 0, 0, 0, 1, 1, 0, 0,\n",
       "       0, 0, 1, 0, 0, 1, 1, 0, 1, 1, 0, 0, 0, 1, 1, 0, 0, 1, 1, 1, 0, 1,\n",
       "       1, 0, 0, 1, 1, 0, 0, 1, 0, 0, 1, 0, 1, 1, 0, 1, 0, 0, 0, 0, 0, 0,\n",
       "       0, 0, 0, 1, 0, 0, 1, 1, 0, 0, 1, 0, 0, 1, 0, 0, 1, 0, 1, 1, 1, 1,\n",
       "       0, 1, 1, 0, 1, 1, 0, 0, 0, 1, 0, 0, 1, 0, 0, 0, 0, 0, 1, 0, 1, 0,\n",
       "       0, 0, 0, 0, 0, 1, 0, 1, 1, 0, 0, 0, 1, 0, 0, 1, 0, 1, 1, 0, 0, 0,\n",
       "       0, 0, 0, 0, 0, 1, 0, 0, 0, 0, 0, 1, 0, 1, 1, 0, 0, 1, 0, 1, 0, 0,\n",
       "       1, 0, 0, 0, 0, 1, 1, 0, 0, 0, 0, 1, 0, 0, 0, 0, 1, 1, 1, 0, 0, 0,\n",
       "       0, 0, 0, 1, 1, 1, 0, 0, 0, 0, 1, 0, 0, 0, 0, 0, 1, 1, 1, 1, 0, 0,\n",
       "       0, 0, 0, 1, 0, 0, 0, 1, 1, 0, 1, 0, 0, 1, 0, 0, 0, 0, 0, 0, 1, 1,\n",
       "       0, 0, 0, 1, 1, 0, 0, 1, 1, 1, 1, 0, 0, 0, 0, 1, 1, 0, 0, 0, 1, 1,\n",
       "       0, 0, 0, 0, 0, 0, 0, 1, 1], dtype=int64)"
      ]
     },
     "execution_count": 22,
     "metadata": {},
     "output_type": "execute_result"
    }
   ],
   "source": [
    "# Model evaluation\n",
    "y_pred0 = model0.predict(X_test_scaled)\n",
    "y_pred0"
   ]
  },
  {
   "cell_type": "code",
   "execution_count": 23,
   "metadata": {},
   "outputs": [
    {
     "data": {
      "text/html": [
       "<style>#sk-container-id-3 {color: black;}#sk-container-id-3 pre{padding: 0;}#sk-container-id-3 div.sk-toggleable {background-color: white;}#sk-container-id-3 label.sk-toggleable__label {cursor: pointer;display: block;width: 100%;margin-bottom: 0;padding: 0.3em;box-sizing: border-box;text-align: center;}#sk-container-id-3 label.sk-toggleable__label-arrow:before {content: \"▸\";float: left;margin-right: 0.25em;color: #696969;}#sk-container-id-3 label.sk-toggleable__label-arrow:hover:before {color: black;}#sk-container-id-3 div.sk-estimator:hover label.sk-toggleable__label-arrow:before {color: black;}#sk-container-id-3 div.sk-toggleable__content {max-height: 0;max-width: 0;overflow: hidden;text-align: left;background-color: #f0f8ff;}#sk-container-id-3 div.sk-toggleable__content pre {margin: 0.2em;color: black;border-radius: 0.25em;background-color: #f0f8ff;}#sk-container-id-3 input.sk-toggleable__control:checked~div.sk-toggleable__content {max-height: 200px;max-width: 100%;overflow: auto;}#sk-container-id-3 input.sk-toggleable__control:checked~label.sk-toggleable__label-arrow:before {content: \"▾\";}#sk-container-id-3 div.sk-estimator input.sk-toggleable__control:checked~label.sk-toggleable__label {background-color: #d4ebff;}#sk-container-id-3 div.sk-label input.sk-toggleable__control:checked~label.sk-toggleable__label {background-color: #d4ebff;}#sk-container-id-3 input.sk-hidden--visually {border: 0;clip: rect(1px 1px 1px 1px);clip: rect(1px, 1px, 1px, 1px);height: 1px;margin: -1px;overflow: hidden;padding: 0;position: absolute;width: 1px;}#sk-container-id-3 div.sk-estimator {font-family: monospace;background-color: #f0f8ff;border: 1px dotted black;border-radius: 0.25em;box-sizing: border-box;margin-bottom: 0.5em;}#sk-container-id-3 div.sk-estimator:hover {background-color: #d4ebff;}#sk-container-id-3 div.sk-parallel-item::after {content: \"\";width: 100%;border-bottom: 1px solid gray;flex-grow: 1;}#sk-container-id-3 div.sk-label:hover label.sk-toggleable__label {background-color: #d4ebff;}#sk-container-id-3 div.sk-serial::before {content: \"\";position: absolute;border-left: 1px solid gray;box-sizing: border-box;top: 0;bottom: 0;left: 50%;z-index: 0;}#sk-container-id-3 div.sk-serial {display: flex;flex-direction: column;align-items: center;background-color: white;padding-right: 0.2em;padding-left: 0.2em;position: relative;}#sk-container-id-3 div.sk-item {position: relative;z-index: 1;}#sk-container-id-3 div.sk-parallel {display: flex;align-items: stretch;justify-content: center;background-color: white;position: relative;}#sk-container-id-3 div.sk-item::before, #sk-container-id-3 div.sk-parallel-item::before {content: \"\";position: absolute;border-left: 1px solid gray;box-sizing: border-box;top: 0;bottom: 0;left: 50%;z-index: -1;}#sk-container-id-3 div.sk-parallel-item {display: flex;flex-direction: column;z-index: 1;position: relative;background-color: white;}#sk-container-id-3 div.sk-parallel-item:first-child::after {align-self: flex-end;width: 50%;}#sk-container-id-3 div.sk-parallel-item:last-child::after {align-self: flex-start;width: 50%;}#sk-container-id-3 div.sk-parallel-item:only-child::after {width: 0;}#sk-container-id-3 div.sk-dashed-wrapped {border: 1px dashed gray;margin: 0 0.4em 0.5em 0.4em;box-sizing: border-box;padding-bottom: 0.4em;background-color: white;}#sk-container-id-3 div.sk-label label {font-family: monospace;font-weight: bold;display: inline-block;line-height: 1.2em;}#sk-container-id-3 div.sk-label-container {text-align: center;}#sk-container-id-3 div.sk-container {/* jupyter's `normalize.less` sets `[hidden] { display: none; }` but bootstrap.min.css set `[hidden] { display: none !important; }` so we also need the `!important` here to be able to override the default hidden behavior on the sphinx rendered scikit-learn.org. See: https://github.com/scikit-learn/scikit-learn/issues/21755 */display: inline-block !important;position: relative;}#sk-container-id-3 div.sk-text-repr-fallback {display: none;}</style><div id=\"sk-container-id-3\" class=\"sk-top-container\"><div class=\"sk-text-repr-fallback\"><pre>SVC()</pre><b>In a Jupyter environment, please rerun this cell to show the HTML representation or trust the notebook. <br />On GitHub, the HTML representation is unable to render, please try loading this page with nbviewer.org.</b></div><div class=\"sk-container\" hidden><div class=\"sk-item\"><div class=\"sk-estimator sk-toggleable\"><input class=\"sk-toggleable__control sk-hidden--visually\" id=\"sk-estimator-id-3\" type=\"checkbox\" checked><label for=\"sk-estimator-id-3\" class=\"sk-toggleable__label sk-toggleable__label-arrow\">SVC</label><div class=\"sk-toggleable__content\"><pre>SVC()</pre></div></div></div></div></div>"
      ],
      "text/plain": [
       "SVC()"
      ]
     },
     "execution_count": 23,
     "metadata": {},
     "output_type": "execute_result"
    }
   ],
   "source": [
    "from sklearn.svm import SVC\n",
    "\n",
    "model1 = SVC()\n",
    "model1.fit(X_train_scaled, y_train)"
   ]
  },
  {
   "cell_type": "code",
   "execution_count": 24,
   "metadata": {},
   "outputs": [
    {
     "data": {
      "text/plain": [
       "0.6276505513146734"
      ]
     },
     "execution_count": 24,
     "metadata": {},
     "output_type": "execute_result"
    }
   ],
   "source": [
    "model1.score(X_train_scaled, y_train)"
   ]
  },
  {
   "cell_type": "code",
   "execution_count": 25,
   "metadata": {},
   "outputs": [
    {
     "data": {
      "text/plain": [
       "array([0, 0, 1, 0, 0, 0, 1, 0, 0, 0, 0, 0, 0, 0, 0, 0, 0, 0, 0, 0, 0, 0,\n",
       "       0, 1, 0, 0, 0, 1, 1, 0, 1, 0, 0, 1, 0, 0, 1, 0, 1, 0, 0, 0, 0, 1,\n",
       "       0, 0, 0, 0, 0, 0, 1, 0, 0, 0, 0, 0, 0, 0, 0, 0, 0, 0, 1, 0, 1, 1,\n",
       "       0, 0, 1, 0, 0, 0, 1, 0, 1, 0, 0, 0, 0, 0, 0, 0, 0, 0, 0, 1, 0, 1,\n",
       "       0, 1, 0, 0, 0, 1, 0, 0, 1, 0, 1, 0, 0, 0, 0, 0, 0, 0, 0, 0, 0, 0,\n",
       "       0, 0, 0, 0, 0, 0, 0, 0, 1, 0, 0, 0, 0, 0, 0, 0, 0, 0, 0, 0, 1, 0,\n",
       "       0, 0, 0, 0, 0, 1, 0, 0, 0, 0, 0, 0, 0, 0, 0, 0, 0, 0, 1, 0, 0, 0,\n",
       "       0, 0, 0, 0, 1, 0, 0, 0, 0, 0, 0, 0, 0, 0, 0, 0, 0, 0, 0, 0, 1, 0,\n",
       "       0, 0, 1, 0, 0, 1, 0, 0, 0, 0, 0, 0, 0, 0, 0, 1, 0, 0, 0, 0, 0, 0,\n",
       "       0, 0, 0, 0, 1, 1, 0, 0, 0, 0, 0, 0, 0, 0, 0, 0, 0, 0, 0, 0, 0, 0,\n",
       "       0, 0, 0, 0, 1, 0, 0, 0, 0, 0, 1, 0, 0, 0, 0, 0, 0, 1, 0, 0, 0, 0,\n",
       "       0, 0, 1, 0, 0, 0, 0, 0, 0, 0, 0, 0, 0, 0, 0, 0, 0, 0, 0, 1, 1, 0,\n",
       "       0, 0, 0, 1, 0, 0, 0, 0, 0, 0, 0, 0, 0, 0, 0, 1, 0, 0, 0, 0, 0, 0,\n",
       "       0, 0, 0, 0, 0, 0, 0, 0, 0], dtype=int64)"
      ]
     },
     "execution_count": 25,
     "metadata": {},
     "output_type": "execute_result"
    }
   ],
   "source": [
    "# Model evaluation\n",
    "y_pred1 = model1.predict(X_test_scaled)\n",
    "y_pred1"
   ]
  },
  {
   "cell_type": "code",
   "execution_count": 26,
   "metadata": {},
   "outputs": [],
   "source": [
    "from sklearn.decomposition import PCA\n",
    "\n",
    "# Specify the number of principal components you want to retain\n",
    "n_components = 40  # Adjust as needed\n",
    "\n",
    "# Initialize the PCA transformer\n",
    "pca = PCA(n_components=n_components)\n",
    "\n",
    "# Fit and transform the data using PCA\n",
    "df_pca = pd.DataFrame(pca.fit_transform(X_train_scaled), columns=[f'PC{i+1}' for i in range(n_components)])\n"
   ]
  },
  {
   "cell_type": "code",
   "execution_count": 27,
   "metadata": {},
   "outputs": [
    {
     "name": "stdout",
     "output_type": "stream",
     "text": [
      "Explained Variance Ratio for Each Principal Component: [7.75048401e-01 3.64041444e-02 1.67529023e-02 1.55888183e-02\n",
      " 1.31188789e-02 1.25374758e-02 1.19708835e-02 1.18824928e-02\n",
      " 1.15031001e-02 1.12910696e-02 1.09085227e-02 1.06783168e-02\n",
      " 9.85419716e-03 9.42197748e-03 8.88028654e-03 8.12086288e-03\n",
      " 4.57108670e-03 3.44505549e-03 2.81147256e-03 2.35335844e-03\n",
      " 1.92565904e-03 1.75264850e-03 1.30160873e-03 7.71762842e-04\n",
      " 6.66489004e-04 5.83070820e-04 4.94638132e-04 3.91730321e-04\n",
      " 3.64538142e-04 3.47973885e-04 2.91977014e-04 2.32375003e-04\n",
      " 2.12274342e-04 1.92830629e-04 1.71622274e-04 1.63300629e-04\n",
      " 1.38816202e-04 1.32912477e-04 1.21665911e-04 1.18045793e-04]\n",
      "Transformed Data (Principal Components):\n",
      "            PC1       PC2       PC3       PC4       PC5       PC6       PC7  \\\n",
      "0      0.186856 -0.757839 -0.868991  1.497570 -0.448764  0.916113  0.939455   \n",
      "1      4.591460 -0.162660 -1.584235 -2.573551  0.381438  0.208383 -1.435127   \n",
      "2     -0.811095 -0.497381 -2.094553 -1.290465  1.335411  0.774813  0.604553   \n",
      "3      1.443056  3.796431 -1.417276  0.147473  1.027004 -1.766641 -0.397400   \n",
      "4     -4.254509 -0.288858 -0.645169 -0.590455  1.336224 -1.663333 -1.106490   \n",
      "...         ...       ...       ...       ...       ...       ...       ...   \n",
      "1174  14.327809  0.725161 -0.603622 -2.264376  1.099066 -0.328088  0.804676   \n",
      "1175   0.097697 -0.143461 -2.075101 -1.291187  1.229284  0.842068  0.629424   \n",
      "1176  -2.281700 -0.437974 -0.728057  1.141365 -1.702952  1.907366 -0.681706   \n",
      "1177  -5.865633 -0.482365  0.100757 -1.656186 -0.364094  1.302614 -1.832614   \n",
      "1178  -2.005828 -0.581104 -0.053263  0.831983 -0.315397  0.328095  2.742407   \n",
      "\n",
      "           PC8       PC9      PC10  ...      PC31      PC32      PC33  \\\n",
      "0     1.499185  1.589604  1.714485  ... -0.020031  0.205625 -0.030964   \n",
      "1     2.295697 -0.486816 -0.332513  ...  0.255736  0.636452  0.295872   \n",
      "2     0.294991  1.025991 -0.266314  ... -0.182579 -0.323699  0.193996   \n",
      "3    -1.087431 -0.794941  1.134427  ...  0.015825  0.034693 -0.132410   \n",
      "4     0.220691 -0.318677  1.985022  ...  0.032071 -0.015366  0.070984   \n",
      "...        ...       ...       ...  ...       ...       ...       ...   \n",
      "1174 -0.311558  0.408508 -1.754169  ... -0.153144 -0.180135 -0.047476   \n",
      "1175  0.274511  1.060344 -0.228167  ... -0.016712  0.091980  0.091751   \n",
      "1176 -1.179712  2.709234  0.101595  ...  0.023755  0.029387 -0.007612   \n",
      "1177  2.113833  0.535982 -0.042687  ... -0.021251  0.012295  0.031457   \n",
      "1178  1.017420  0.501117  0.616549  ...  0.043738 -0.056443  0.076661   \n",
      "\n",
      "          PC34      PC35      PC36      PC37      PC38      PC39      PC40  \n",
      "0    -0.017969 -0.014318  0.048908  0.032958 -0.032061 -0.055954 -0.062192  \n",
      "1     0.088246 -0.105021  0.060089 -0.312171 -0.120756  0.144215 -0.039080  \n",
      "2    -0.167218 -0.107344  0.206040 -0.092740 -0.017369  0.161807 -0.315481  \n",
      "3    -0.049827 -0.295883 -0.098210  0.180490  0.004585  0.132324  0.135033  \n",
      "4    -0.089160  0.101432  0.198239 -0.016167 -0.114726  0.083376  0.026523  \n",
      "...        ...       ...       ...       ...       ...       ...       ...  \n",
      "1174  0.133377  0.204817 -0.102676 -0.098219  0.070993  0.169583 -0.107260  \n",
      "1175  0.148069  0.039188  0.116317 -0.070325 -0.041321 -0.024950 -0.032851  \n",
      "1176  0.017145  0.019135  0.017018 -0.039663 -0.047760 -0.009720  0.001949  \n",
      "1177  0.010450 -0.004249 -0.013944  0.018165 -0.004973  0.018012  0.007980  \n",
      "1178  0.121771  0.014996  0.014719  0.020144 -0.004045 -0.048667  0.010018  \n",
      "\n",
      "[1179 rows x 40 columns]\n"
     ]
    }
   ],
   "source": [
    "# Access the explained variance ratio\n",
    "explained_variance_ratio = pca.explained_variance_ratio_\n",
    "print(\"Explained Variance Ratio for Each Principal Component:\", explained_variance_ratio)\n",
    "\n",
    "# Access the transformed data (principal components)\n",
    "transformed_data = df_pca\n",
    "print(\"Transformed Data (Principal Components):\")\n",
    "print(transformed_data)"
   ]
  },
  {
   "cell_type": "code",
   "execution_count": null,
   "metadata": {},
   "outputs": [],
   "source": []
  }
 ],
 "metadata": {
  "kernelspec": {
   "display_name": "base",
   "language": "python",
   "name": "python3"
  },
  "language_info": {
   "codemirror_mode": {
    "name": "ipython",
    "version": 3
   },
   "file_extension": ".py",
   "mimetype": "text/x-python",
   "name": "python",
   "nbconvert_exporter": "python",
   "pygments_lexer": "ipython3",
   "version": "3.11.5"
  }
 },
 "nbformat": 4,
 "nbformat_minor": 2
}
